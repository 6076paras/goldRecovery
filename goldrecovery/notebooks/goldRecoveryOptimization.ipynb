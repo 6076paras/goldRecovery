{
 "cells": [
  {
   "cell_type": "code",
   "execution_count": 2,
   "id": "a2028924-1df9-4fa5-a03c-e164e612d1b9",
   "metadata": {},
   "outputs": [],
   "source": [
    "import matplotlib.pyplot as plt\n",
    "import numpy as np\n",
    "import pandas as pd\n",
    "import seaborn as sns\n",
    "import sklearn"
   ]
  },
  {
   "cell_type": "code",
   "execution_count": 4,
   "id": "c177b7fb-a142-4aa4-9286-ddc11119dcf1",
   "metadata": {},
   "outputs": [],
   "source": [
    "# Load Data\n",
    "train_df = pd.read_csv(\"../data/gold_recovery_train_new.csv\")\n",
    "test_df = pd.read_csv(\"../data/gold_recovery_test_new.csv\")\n",
    "full_df = pd.read_csv(\"../data/gold_recovery_full_new.csv\")\n",
    "\n",
    "# Load Data\n",
    "train_df = pd.read_csv(\"../data/gold_recovery_train_new.csv\")\n",
    "test_df = pd.read_csv(\"../data/gold_recovery_test_new.csv\")\n",
    "full_df = pd.read_csv(\"../data/gold_recovery_full_new.csv\")"
   ]
  },
  {
   "cell_type": "code",
   "execution_count": null,
   "id": "cef29ac8-e59b-4d4e-be0b-18e9568a8139",
   "metadata": {},
   "outputs": [],
   "source": [
    "#"
   ]
  }
 ],
 "metadata": {
  "kernelspec": {
   "display_name": "Python 3 (ipykernel)",
   "language": "python",
   "name": "python3"
  },
  "language_info": {
   "codemirror_mode": {
    "name": "ipython",
    "version": 3
   },
   "file_extension": ".py",
   "mimetype": "text/x-python",
   "name": "python",
   "nbconvert_exporter": "python",
   "pygments_lexer": "ipython3",
   "version": "3.13.0"
  }
 },
 "nbformat": 4,
 "nbformat_minor": 5
}
